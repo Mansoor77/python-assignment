{
 "cells": [
  {
   "cell_type": "code",
   "execution_count": 48,
   "id": "ad8e4128",
   "metadata": {
    "scrolled": true
   },
   "outputs": [
    {
     "name": "stdout",
     "output_type": "stream",
     "text": [
      "Twinkle, twinkle,little star,\n",
      "         How I wonder what you are\n",
      "                 Up above the world so high,\n",
      "                 Like a diamond the sky.\n",
      "Twinkle, twinkle, little star,\n",
      "         How I wonder what you are\n"
     ]
    }
   ],
   "source": [
    "print(\"Twinkle, twinkle,little star,\\n\"\n",
    "           '         '   \"How I wonder what you are\\n\"\n",
    "             '                 '     \"Up above the world so high,\\n\"\n",
    "             '                 '    \"Like a diamond the sky.\\n\"\n",
    "\"Twinkle, twinkle, little star,\\n\"\n",
    "                    '         '   \"How I wonder what you are\")"
   ]
  },
  {
   "cell_type": "code",
   "execution_count": 51,
   "id": "409e8a73",
   "metadata": {},
   "outputs": [
    {
     "name": "stdout",
     "output_type": "stream",
     "text": [
      "python version\n",
      "3.9.7 (default, Sep 16 2021, 16:59:28) [MSC v.1916 64 bit (AMD64)]\n"
     ]
    }
   ],
   "source": [
    "import sys\n",
    "print (\"python version\")\n",
    "print (sys.version)\n"
   ]
  },
  {
   "cell_type": "code",
   "execution_count": 57,
   "id": "0d63db0e",
   "metadata": {},
   "outputs": [
    {
     "name": "stdout",
     "output_type": "stream",
     "text": [
      "2021-12-28 23:49:26.893360\n"
     ]
    }
   ],
   "source": [
    "import datetime\n",
    "now = datetime.datetime.now()\n",
    "print(now)"
   ]
  },
  {
   "cell_type": "code",
   "execution_count": 73,
   "id": "3bbdfb56",
   "metadata": {},
   "outputs": [
    {
     "name": "stdout",
     "output_type": "stream",
     "text": [
      "enter radius 5\n",
      "78.5\n"
     ]
    }
   ],
   "source": [
    "r= float(input (\"enter radius \"))\n",
    "area = 3.14*r*r\n",
    "print(area)"
   ]
  },
  {
   "cell_type": "code",
   "execution_count": 83,
   "id": "726c616e",
   "metadata": {},
   "outputs": [
    {
     "name": "stdout",
     "output_type": "stream",
     "text": [
      "Enter First Name: Mansoor\n",
      "Enter last Name: Iqbal\n",
      "Iqbal Mansoor\n"
     ]
    }
   ],
   "source": [
    "name =input(\"Enter First Name: \")\n",
    "name2=input(\"Enter last Name: \")\n",
    "print (name2, name)\n"
   ]
  },
  {
   "cell_type": "code",
   "execution_count": 87,
   "id": "5d057bfe",
   "metadata": {},
   "outputs": [
    {
     "name": "stdout",
     "output_type": "stream",
     "text": [
      "Enter Number: 7\n",
      "Enter Number2: 7\n",
      "14.0\n"
     ]
    }
   ],
   "source": [
    "a= float(input(\"Enter Number: \"))\n",
    "b= float(input(\"Enter Number2: \"))\n",
    "print(a+b)"
   ]
  },
  {
   "cell_type": "code",
   "execution_count": null,
   "id": "84cd0244",
   "metadata": {},
   "outputs": [],
   "source": []
  },
  {
   "cell_type": "code",
   "execution_count": null,
   "id": "a48eb2ce",
   "metadata": {},
   "outputs": [],
   "source": []
  },
  {
   "cell_type": "code",
   "execution_count": null,
   "id": "efc1e066",
   "metadata": {},
   "outputs": [],
   "source": []
  },
  {
   "cell_type": "code",
   "execution_count": null,
   "id": "48b028b8",
   "metadata": {},
   "outputs": [],
   "source": []
  },
  {
   "cell_type": "code",
   "execution_count": null,
   "id": "c101b103",
   "metadata": {},
   "outputs": [],
   "source": []
  },
  {
   "cell_type": "code",
   "execution_count": null,
   "id": "e656cfa3",
   "metadata": {},
   "outputs": [],
   "source": []
  }
 ],
 "metadata": {
  "kernelspec": {
   "display_name": "Python 3 (ipykernel)",
   "language": "python",
   "name": "python3"
  },
  "language_info": {
   "codemirror_mode": {
    "name": "ipython",
    "version": 3
   },
   "file_extension": ".py",
   "mimetype": "text/x-python",
   "name": "python",
   "nbconvert_exporter": "python",
   "pygments_lexer": "ipython3",
   "version": "3.9.7"
  }
 },
 "nbformat": 4,
 "nbformat_minor": 5
}
